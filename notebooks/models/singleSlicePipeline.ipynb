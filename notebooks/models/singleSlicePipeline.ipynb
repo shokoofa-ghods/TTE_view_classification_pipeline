{
 "cells": [
  {
   "cell_type": "markdown",
   "metadata": {
    "id": "CgGhNLlpry0E"
   },
   "source": [
    "### Libraries"
   ]
  },
  {
   "cell_type": "code",
   "execution_count": 1,
   "metadata": {
    "id": "aysY0swgfvTQ"
   },
   "outputs": [
    {
     "name": "stderr",
     "output_type": "stream",
     "text": [
      "/home/shokoo/.local/lib/python3.11/site-packages/tqdm/auto.py:21: TqdmWarning: IProgress not found. Please update jupyter and ipywidgets. See https://ipywidgets.readthedocs.io/en/stable/user_install.html\n",
      "  from .autonotebook import tqdm as notebook_tqdm\n"
     ]
    }
   ],
   "source": [
    "import os\n",
    "from PIL import Image\n",
    "import time\n",
    "import datetime\n",
    "import copy\n",
    "\n",
    "import numpy as np\n",
    "import pandas as pd\n",
    "import matplotlib.pyplot as plt\n",
    "import cv2\n",
    "\n",
    "import torch\n",
    "import torchvision\n",
    "import timm\n",
    "import torch.nn.functional as F\n",
    "import torchvision.transforms.v2 as v2\n",
    "from torchvision.models import convnext_base\n",
    "from collections import Counter\n",
    "from torchvision.transforms import functional as TF\n",
    "from scipy.ndimage import gaussian_filter, map_coordinates\n",
    "from torch.optim.lr_scheduler import ReduceLROnPlateau\n",
    "import kornia.augmentation as K\n",
    "from torch import nn, optim\n",
    "from efficientnet_pytorch import EfficientNet\n",
    "from torchvision.transforms import transforms, Lambda\n",
    "from torch.utils.data import random_split\n",
    "import random\n",
    "from torch.utils.data import DataLoader\n",
    "import glob\n",
    "from torchvision.transforms import ToPILImage\n",
    "import torch\n",
    "from torch.utils.data import Dataset\n",
    "import segmentation_models_pytorch as smp\n",
    "#!pip install git+https://github.com/facebookresearch/fvcore.git\n",
    "\n",
    "from sklearn.metrics import confusion_matrix\n",
    "import matplotlib.pyplot as plt\n",
    "import seaborn as sns"
   ]
  },
  {
   "cell_type": "code",
   "execution_count": 2,
   "metadata": {
    "id": "XWsXHd55aS4d",
    "outputId": "d467adce-fcc3-459c-df48-5ff081068ac4"
   },
   "outputs": [
    {
     "data": {
      "text/plain": [
       "'/home/shokoo/EchoView/view_classification/notebooks/models'"
      ]
     },
     "execution_count": 2,
     "metadata": {},
     "output_type": "execute_result"
    }
   ],
   "source": [
    "pwd"
   ]
  },
  {
   "cell_type": "code",
   "execution_count": 3,
   "metadata": {
    "id": "Ygfq36eLaS4e"
   },
   "outputs": [],
   "source": [
    "dataset_address = '/home/shokoo/EchoView/Datasets/data_split/'\n",
    "files_address = '/home/shokoo/EchoView/view_classification'"
   ]
  },
  {
   "cell_type": "code",
   "execution_count": 4,
   "metadata": {
    "id": "GzQrpfPKQw5k",
    "outputId": "0a106ed6-a35a-4d90-824d-fae422581d30"
   },
   "outputs": [
    {
     "data": {
      "text/plain": [
       "665299"
      ]
     },
     "execution_count": 4,
     "metadata": {},
     "output_type": "execute_result"
    }
   ],
   "source": [
    "paths = glob.glob(os.path.join(dataset_address + '**/*/*', '*')) #numebr of all samples per patients\n",
    "len(paths)"
   ]
  },
  {
   "cell_type": "code",
   "execution_count": 5,
   "metadata": {},
   "outputs": [],
   "source": [
    "avg_data_mean = np.array([0.0847569 , 0.08113708, 0.08339239])\n",
    "avg_data_std = np.array([0.17340048, 0.17009241, 0.17395345])"
   ]
  },
  {
   "cell_type": "markdown",
   "metadata": {
    "id": "xRSPjiIcrx6W"
   },
   "source": [
    "### Load the csv file containing the image file names and corresponding labels"
   ]
  },
  {
   "cell_type": "code",
   "execution_count": 6,
   "metadata": {
    "id": "rz_f89aQWd1O"
   },
   "outputs": [],
   "source": [
    "info_train = pd.read_csv(os.path.join(files_address, 'csv_files/train_original.csv'))\n",
    "info_val = pd.read_csv(os.path.join(files_address, 'csv_files/val_original.csv'))\n",
    "info_test = pd.read_csv(os.path.join(files_address, 'csv_files/test_original.csv'))"
   ]
  },
  {
   "cell_type": "code",
   "execution_count": 7,
   "metadata": {},
   "outputs": [
    {
     "data": {
      "text/plain": [
       "(4402, 1055, 1436)"
      ]
     },
     "execution_count": 7,
     "metadata": {},
     "output_type": "execute_result"
    }
   ],
   "source": [
    "len(info_train['label']), len(info_val['label']), len(info_test['label']), "
   ]
  },
  {
   "cell_type": "code",
   "execution_count": 76,
   "metadata": {},
   "outputs": [
    {
     "name": "stdout",
     "output_type": "stream",
     "text": [
      "Counter({'PLAX': 9740, 'Apical-4ch': 7710, 'Subcostal': 5860, 'PSAX-ves': 4810, 'Apical-2ch': 3700, 'Apical-3ch': 3660, 'Apical-5ch': 2150, 'PSAX-mid': 1970, 'PSAX-base': 1760, 'Suprasternal': 1470, 'PSAX-apical': 1190})\n"
     ]
    }
   ],
   "source": [
    "print(Counter(info_train['label']))"
   ]
  },
  {
   "cell_type": "code",
   "execution_count": 8,
   "metadata": {},
   "outputs": [],
   "source": [
    "def visualize_normalized(image, label, mean, std):\n",
    "    # Un-normalize\n",
    "    mean = torch.tensor(mean).view(3, 1, 1)\n",
    "    std = torch.tensor(std).view(3, 1, 1)\n",
    "    image = image * std + mean  # reverse normalization\n",
    "\n",
    "    # Convert to [0, 1] and clamp to avoid display issues\n",
    "    image = torch.clamp(image, 0, 1)\n",
    "\n",
    "    # Convert to HWC\n",
    "    image_np = image.permute(1, 2, 0).cpu().numpy()\n",
    "\n",
    "    # Plot\n",
    "    plt.figure(figsize=(8, 6))\n",
    "    plt.imshow(image_np)\n",
    "    plt.title(f\"Label: {label.item()}\")\n",
    "    plt.axis('off')\n",
    "    plt.show()\n"
   ]
  },
  {
   "cell_type": "code",
   "execution_count": 9,
   "metadata": {},
   "outputs": [],
   "source": [
    "def visualization(image, label):\n",
    "    plt.figure(figsize=(8, 6))\n",
    "    \n",
    "    if isinstance(image, torch.Tensor):\n",
    "        if image.max() <= 1.0:\n",
    "            image = image * 255.0  # Scale back to [0, 255] if needed\n",
    "        image = image.byte().permute(1, 2, 0).cpu().numpy()\n",
    "    \n",
    "    plt.imshow(image)\n",
    "    plt.title(f\"Label: {label}\")\n",
    "    plt.xticks([])\n",
    "    plt.yticks([])\n",
    "    plt.show()"
   ]
  },
  {
   "cell_type": "markdown",
   "metadata": {
    "id": "3yCgnhCLqHo5"
   },
   "source": [
    "### Preprocessing"
   ]
  },
  {
   "cell_type": "markdown",
   "metadata": {
    "id": "7JR0XG56tmNN"
   },
   "source": [
    "##### Define Transformers"
   ]
  },
  {
   "cell_type": "code",
   "execution_count": 10,
   "metadata": {
    "id": "iZePgwSqtldr"
   },
   "outputs": [],
   "source": [
    "class AddGaussianNoise(nn.Module):\n",
    "    \"\"\"Add Gaussian noise to a video.\"\"\"\n",
    "    def __init__(self, mean=0., std=0.1):\n",
    "        super().__init__()\n",
    "        self.mean = mean\n",
    "        self.std = std\n",
    "\n",
    "    def forward(self, tensor):\n",
    "        return tensor + torch.randn(tensor.size()) * self.std + self.mean\n",
    "    \n",
    "class MotionBlurWrapper(nn.Module):\n",
    "    def __init__(self):\n",
    "        super().__init__()\n",
    "        self.blur = K.RandomMotionBlur(kernel_size=5, angle=[-10., 10.], direction=[-0.5, 0.5], p=1.0)\n",
    "\n",
    "    def forward(self, x):\n",
    "        return self.blur(x.unsqueeze(0)).squeeze(0)\n",
    "    \n",
    "class RandomErasingWrapper(nn.Module):\n",
    "    def __init__(self):\n",
    "        super().__init__()\n",
    "        self.coarse_dropout = K.RandomErasing(scale=(0.015, 0.04), ratio=(0.2, 3.3), p=0.2)\n",
    "\n",
    "    def forward(self, x):\n",
    "        return self.coarse_dropout(x.unsqueeze(0)).squeeze(0)\n",
    "\n",
    "class QualityDecay(nn.Module):\n",
    "    def __init__(self, strength=0.5, mode=\"noise_blur\"):\n",
    "        super().__init__()\n",
    "        self.strength = strength\n",
    "        self.mode = mode\n",
    "\n",
    "    def forward(self, x):\n",
    "        C, H, W = x.shape\n",
    "        device = x.device\n",
    "\n",
    "        # Create vertical + radial mask (0 at top/edge, 1 at bottom/center)\n",
    "        y = torch.linspace(0, 1, H, device=device).unsqueeze(1).repeat(1, W)  # vertical gradient\n",
    "        x_pos = torch.linspace(-1, 1, W, device=device).unsqueeze(0).repeat(H, 1)  # horizontal wedge\n",
    "        r = torch.sqrt(x_pos**2 + (y - 0.5)**2)\n",
    "        decay_mask = ((0.3 * y + 0.7 * r) ).clamp(0, 1)\n",
    "\n",
    "        decay_mask = decay_mask.unsqueeze(0).repeat(C, 1, 1)  # [C, H, W]\n",
    "\n",
    "        if self.mode == \"noise_blur\":\n",
    "            noise = torch.randn_like(x) * decay_mask * self.strength\n",
    "            x = x + noise\n",
    "            # Apply slight blur by average pooling, weighted by mask\n",
    "            blurred = F.avg_pool2d(x.unsqueeze(0), 3, stride=1, padding=1).squeeze(0)\n",
    "            x = (1 - decay_mask) * x + decay_mask * blurred\n",
    "\n",
    "        elif self.mode == \"contrast_drop\":\n",
    "            mean = x.mean(dim=(1, 2), keepdim=True)\n",
    "            x = (1 - decay_mask) * x + decay_mask * mean  # pull toward mean (less contrast)\n",
    "\n",
    "        return x"
   ]
  },
  {
   "cell_type": "code",
   "execution_count": 11,
   "metadata": {},
   "outputs": [],
   "source": [
    "original_size = (224, 224) \n",
    "train_transform = nn.Sequential(\n",
    "    v2.RandomHorizontalFlip(p=0.5),\n",
    "    v2.RandomVerticalFlip(p=0.5),\n",
    "    v2.RandomRotation(degrees=10),\n",
    "    v2.RandomRotation(degrees=30),\n",
    "    v2.ColorJitter(brightness=0.1, contrast=0.1),\n",
    "    transforms.RandomAffine(degrees=0, translate=(0.05, 0.05), scale=(0.95, 1.05)),\n",
    "    AddGaussianNoise(0., 0.1),\n",
    "    MotionBlurWrapper(),\n",
    "    RandomErasingWrapper(),\n",
    "    QualityDecay(strength=0.3, mode='contrast_drop'),\n",
    "    transforms.CenterCrop(180), transforms.Resize(original_size),\n",
    ")"
   ]
  },
  {
   "cell_type": "code",
   "execution_count": 12,
   "metadata": {},
   "outputs": [],
   "source": [
    "def apply_augmentation(image, augmentation_list):\n",
    "    \"\"\"Applies a randomly selected augmentation from the list.\"\"\"\n",
    "    image = transforms.Grayscale(num_output_channels=3)(image)\n",
    "    num_augmentations = len(augmentation_list)\n",
    "    rand_list = list()\n",
    "    i=2\n",
    "    for _ in range(i):\n",
    "        random_index = np.random.randint(num_augmentations)\n",
    "        if random_index not in rand_list:\n",
    "            rand_list.append(random_index)\n",
    "        else:\n",
    "            i+=1\n",
    "        chosen_augmentation = augmentation_list[random_index]\n",
    "        image = chosen_augmentation(image)\n",
    "    \n",
    "    return image"
   ]
  },
  {
   "cell_type": "code",
   "execution_count": 13,
   "metadata": {},
   "outputs": [],
   "source": [
    "def view_specific_augmentation(image, augmentation_list):\n",
    "    \"\"\"Applies a randomly selected augmentation from the list.\"\"\"\n",
    "    image = transforms.Grayscale(num_output_channels=3)(image)\n",
    "    num_augmentations = len(augmentation_list)\n",
    "    rand_list = list()\n",
    "    i=4\n",
    "    for _ in range(i):\n",
    "        random_index = np.random.randint(num_augmentations)\n",
    "        if random_index not in rand_list:\n",
    "            rand_list.append(random_index)\n",
    "        else:\n",
    "            i+=1\n",
    "        chosen_augmentation = augmentation_list[random_index]\n",
    "        image = chosen_augmentation(image)\n",
    "    \n",
    "    return image"
   ]
  },
  {
   "cell_type": "markdown",
   "metadata": {
    "id": "NtBfvlEJwMML"
   },
   "source": [
    "### Map images to their labels"
   ]
  },
  {
   "cell_type": "code",
   "execution_count": 14,
   "metadata": {},
   "outputs": [],
   "source": [
    "class TTEDataset(torch.utils.data.Dataset):\n",
    "    def __init__(self, csv_info, root_dir, data_mean=0.5, data_std=0.5,\n",
    "                 use_npy=True, transform=None, remove_ecg=True, remove_static=True):\n",
    "        self.meta = csv_info\n",
    "        self.root_dir = root_dir\n",
    "        self.data_mean = data_mean\n",
    "        self.data_std = data_std\n",
    "        self.use_npy = use_npy\n",
    "        self.transform = transform\n",
    "        self.remove_ecg = remove_ecg\n",
    "        self.remove_static = remove_static\n",
    "        self.label_mapping = {\n",
    "            'PLAX': 0, 'PSAX-ves': 1, 'PSAX-base': 2, 'PSAX-mid': 3,\n",
    "            'PSAX-apical': 4, 'Apical-2ch': 5, 'Apical-3ch': 6,\n",
    "            'Apical-5ch': 7, 'Apical-4ch': 8, 'Suprasternal': 9, 'Subcostal': 10\n",
    "        }\n",
    "        self.specific_views = ['PSAX-base', 'PSAX-mid','PSAX-apical','Apical-5ch','Subcostal']\n",
    "\n",
    "    def __len__(self):\n",
    "        return len(self.meta)\n",
    "\n",
    "    def __getitem__(self, idx):\n",
    "        row = self.meta.iloc[idx]\n",
    "        path = row['path']\n",
    "        case_path = path.split('/')[-1]\n",
    "        # frame_id = row['frame']\n",
    "        frame_id = 0\n",
    "        label_key = row['label']\n",
    "        label = torch.tensor([self.label_mapping[label_key]])\n",
    "        frames = []\n",
    "\n",
    "        # Load image\n",
    "        if self.use_npy:\n",
    "            npy_path = os.path.join(self.root_dir, path, \"frames.npy\")\n",
    "            frames = np.load(npy_path)\n",
    "            image = frames[frame_id]\n",
    "        else:\n",
    "            image_path = os.path.join(self.root_dir, path, f\"{case_path}_{frame_id}.png\")\n",
    "            image = Image.open(image_path).convert(\"RGB\")\n",
    "            # image = self.ensure_tensor_rgb(image)\n",
    "\n",
    "        # Remove ECG line\n",
    "        if self.remove_ecg:\n",
    "            image = self.remove_ecg_line(image)\n",
    "\n",
    "        # Remove static background\n",
    "        if self.remove_static:\n",
    "            image = self.remove_static_background(image, path, frames, case_path, idx)\n",
    "\n",
    "        # Tensor conversion\n",
    "        image = self.ensure_tensor_rgb(image)\n",
    "\n",
    "        # Transform\n",
    "        if self.transform:\n",
    "            image = apply_augmentation(image, self.transform)\n",
    "        # elif self.transform and label_key in self.specific_views:\n",
    "        #     image = view_specific_augmentation(image, self.transform)\n",
    "\n",
    "        # Normalize\n",
    "        image = TF.normalize(image, self.data_mean, self.data_std)\n",
    "        image = TF.resize(image, size=(224,224))\n",
    "\n",
    "        return image, label\n",
    "\n",
    "    def ensure_tensor_rgb(self, image):\n",
    "        if isinstance(image, np.ndarray):\n",
    "            if image.max() > 1.0:\n",
    "                image = image / 255.0\n",
    "            image = torch.tensor(image).permute(2, 0, 1).float()\n",
    "        elif isinstance(image, Image.Image):\n",
    "            image = TF.to_tensor(image)\n",
    "        elif isinstance(image, torch.Tensor):\n",
    "            if image.max() > 1.0:\n",
    "                image = image / 255.0\n",
    "        return image\n",
    "\n",
    "    def remove_ecg_line(self, image):\n",
    "        if isinstance(image, Image.Image):\n",
    "            image = np.array(image)\n",
    "        hsv = cv2.cvtColor(image.astype(np.uint8), cv2.COLOR_RGB2HSV)\n",
    "        mask = cv2.inRange(hsv, (40, 40, 40), (80, 255, 255))\n",
    "        image[mask > 0] = 0\n",
    "        return image\n",
    "\n",
    "    def remove_static_background(self, image, path, frames=None, case_path='', index=0):\n",
    "        if frames is None or len(frames) == 0:\n",
    "            ref_frames = []\n",
    "            for i in range(5):\n",
    "                img_path = os.path.join(self.root_dir, path, f\"{case_path}_{i}.png\")\n",
    "                if not os.path.exists(img_path):\n",
    "                    print('path not found')\n",
    "                    break\n",
    "                img = TF.to_tensor(Image.open(img_path).convert(\"RGB\"))\n",
    "                ref_frames.append(img)\n",
    "                \n",
    "            frames = torch.stack(ref_frames).float() / 255.0\n",
    "        else:\n",
    "            frames = torch.tensor(frames).permute(0, 3, 1, 2).float() / 255.0\n",
    "\n",
    "        if len(frames) < 2: # Not enough frames to compute mask\n",
    "            print('not enught image')\n",
    "            return image\n",
    "\n",
    "        k = min(5, frames.shape[0])\n",
    "        ref_mask = torch.zeros_like(frames[0], dtype=torch.uint8)\n",
    "        for i in range(k - 1):\n",
    "            ref_mask |= (frames[i] != frames[i + 1])\n",
    "\n",
    "        image = self.ensure_tensor_rgb(image)\n",
    "        return image * ref_mask\n"
   ]
  },
  {
   "cell_type": "markdown",
   "metadata": {
    "id": "xXJyCeb0ts3t"
   },
   "source": [
    "### Load the train,val,test dataset from the folder"
   ]
  },
  {
   "cell_type": "code",
   "execution_count": 15,
   "metadata": {},
   "outputs": [],
   "source": [
    "train_data = TTEDataset(\n",
    "    csv_info=info_train, root_dir=dataset_address, data_mean = avg_data_mean, data_std = avg_data_std, use_npy=False, remove_ecg=True, remove_static=True, \n",
    "    transform=train_transform,\n",
    ")\n",
    "\n",
    "val_data = TTEDataset(\n",
    "    csv_info=info_val, root_dir=dataset_address, data_mean = avg_data_mean, data_std = avg_data_std, use_npy=False, remove_ecg=True, remove_static=True,\n",
    ")\n",
    "\n",
    "test_data = TTEDataset( \n",
    "    csv_info=info_test, root_dir=dataset_address, data_mean = avg_data_mean, data_std = avg_data_std, use_npy=False, remove_ecg=True, remove_static=True \n",
    ")"
   ]
  },
  {
   "cell_type": "code",
   "execution_count": 16,
   "metadata": {},
   "outputs": [
    {
     "data": {
      "image/png": "[encoded data removed]",
      "text/plain": [
       "<Figure size 800x600 with 1 Axes>"
      ]
     },
     "metadata": {},
     "output_type": "display_data"
    },
    {
     "data": {
      "text/plain": [
       "3463"
      ]
     },
     "execution_count": 16,
     "metadata": {},
     "output_type": "execute_result"
    }
   ],
   "source": [
    "num = random.randint(0,11000)\n",
    "img, label = train_data[num]\n",
    "visualize_normalized(img, label, avg_data_mean, avg_data_std)\n",
    "num"
   ]
  },
  {
   "cell_type": "markdown",
   "metadata": {
    "id": "nispAYROuDTh"
   },
   "source": [
    "### Create data loaders for the train and validation sets\n",
    "\n"
   ]
  },
  {
   "cell_type": "code",
   "execution_count": 17,
   "metadata": {},
   "outputs": [],
   "source": [
    "train_loader = DataLoader(train_data, batch_size=32, drop_last=False, shuffle=True, pin_memory=True, num_workers= 1, persistent_workers=True)\n",
    "#, pin_memory=True, num_workers= 8, persistent_workers=True)\n",
    "\n",
    "val_loader = DataLoader(val_data, batch_size=32, drop_last=False, shuffle=False, pin_memory=True, num_workers= 1, persistent_workers=True)\n",
    "# collate_fn=collate_fn)\n",
    "# #pin_memory=True, num_workers= 8, persistent_workers=True)\n",
    "\n",
    "test_loader = DataLoader(test_data, batch_size=32, drop_last=False, shuffle=False, pin_memory=True, num_workers= 1, persistent_workers=True)\n",
    "#pin_memory=True, num_workers= 8, persistent_workers=True)\n"
   ]
  },
  {
   "cell_type": "code",
   "execution_count": 18,
   "metadata": {},
   "outputs": [
    {
     "name": "stdout",
     "output_type": "stream",
     "text": [
      "torch.Size([32, 3, 224, 224])\n"
     ]
    }
   ],
   "source": [
    "for i,l in train_loader:\n",
    "    print(i.shape)\n",
    "    break"
   ]
  },
  {
   "cell_type": "markdown",
   "metadata": {
    "id": "T5J7YT_kuI_u"
   },
   "source": [
    "### Define the neural network model architecture"
   ]
  },
  {
   "cell_type": "code",
   "execution_count": 151,
   "metadata": {},
   "outputs": [],
   "source": [
    "combined_view_map = {\n",
    "    0 : 'plax',          # PLAX\n",
    "    1: 'psax-ves',     # PSAX-ves\n",
    "    2: 'psax-sub',     # PSAX-base\n",
    "    3: 'psax-sub',     # PSAX-mid\n",
    "    4: 'psax-sub',     # PSAX-apical\n",
    "    5: 'apical-2ch',   # Apical-2ch\n",
    "    6: 'apical-3ch',   # Apical-3ch\n",
    "    7: 'apical-4&5ch',   # Apical-5ch\n",
    "    8: 'apical-4&5ch',   # Apical-4ch\n",
    "    9: 'suprasternal',   # Suprasternal   \n",
    "    10: 'subcostal'      # Subcostal\n",
    "}\n",
    "\n",
    "class ChannelAttention(nn.Module):\n",
    "    def __init__(self, in_planes, reduction=16):\n",
    "        super(ChannelAttention, self).__init__()\n",
    "        self.avg_pool = nn.AdaptiveAvgPool2d(1)\n",
    "        self.max_pool = nn.AdaptiveMaxPool2d(1)\n",
    "\n",
    "        self.shared_MLP = nn.Sequential(\n",
    "            nn.Conv2d(in_planes, in_planes // reduction, 1, bias=False),\n",
    "            nn.ReLU(),\n",
    "            nn.Conv2d(in_planes // reduction, in_planes, 1, bias=False)\n",
    "        )\n",
    "        self.sigmoid = nn.Sigmoid()\n",
    "\n",
    "    def forward(self, x):\n",
    "        avg_out = self.shared_MLP(self.avg_pool(x))\n",
    "        max_out = self.shared_MLP(self.max_pool(x))\n",
    "        out = avg_out + max_out\n",
    "        return self.sigmoid(out)\n",
    "\n",
    "class SpatialAttention(nn.Module):\n",
    "    def __init__(self, kernel_size=7):\n",
    "        super(SpatialAttention, self).__init__()\n",
    "        assert kernel_size in (3, 7), 'kernel size must be 3 or 7'\n",
    "        padding = 3 if kernel_size == 7 else 1\n",
    "\n",
    "        self.conv = nn.Conv2d(2, 1, kernel_size, padding=padding, bias=False)\n",
    "        self.sigmoid = nn.Sigmoid()\n",
    "\n",
    "    def forward(self, x):\n",
    "        avg_out = torch.mean(x, dim=1, keepdim=True)\n",
    "        max_out, _ = torch.max(x, dim=1, keepdim=True)\n",
    "        x_cat = torch.cat([avg_out, max_out], dim=1)\n",
    "        out = self.conv(x_cat)\n",
    "        return self.sigmoid(out)\n",
    "\n",
    "class CBAM(nn.Module):\n",
    "    def __init__(self, channels, reduction=16, spatial_kernel=7):\n",
    "        super(CBAM, self).__init__()\n",
    "        self.ca = ChannelAttention(channels, reduction)\n",
    "        self.sa = SpatialAttention(spatial_kernel)\n",
    "        self.dropout2d = nn.Dropout2d(p=0.2)\n",
    "\n",
    "    def forward(self, x):\n",
    "        x = x * self.ca(x)\n",
    "        x = x * self.sa(x)\n",
    "        x = self.dropout2d(x)\n",
    "        return x\n",
    "\n",
    "class CNN_CBAM(nn.Module):\n",
    "    def __init__(self, backbone_type='convnext_base', num_classes= 11):\n",
    "        super(CNN_CBAM, self).__init__()\n",
    "\n",
    "        self.group_names = ['plax', 'psax-ves', 'psax-sub', 'apical-2ch', 'apical-3ch', 'apical-4&5ch', 'suprasternal', 'subcostal']\n",
    "        self.view_id_to_group_idx = {\n",
    "            view_id: self.group_names.index(combined_view_map[view_id])\n",
    "            for view_id in range(11)\n",
    "        }\n",
    "\n",
    "        if backbone_type.startswith('convnext'):\n",
    "            base_model = getattr(torchvision.models, backbone_type)(weights='IMAGENET1K_V1')\n",
    "            self.features = base_model.features\n",
    "            feature_channels = 768 # small 768 # base 1024\n",
    "\n",
    "        elif backbone_type.startswith('efficientnet-b2'):\n",
    "            base_model = torchvision.models.efficientnet_b2(weights='DEFAULT')\n",
    "            self.features = base_model.features\n",
    "            feature_channels = 1408\n",
    "            \n",
    "        else:\n",
    "            base_model = timm.create_model(backbone_type, pretrained=True, features_only=True) ## gets 224x224\n",
    "            self.features = base_model\n",
    "            feature_channels = base_model.feature_info[-1]['num_chs']\n",
    "\n",
    "        self.dropout2d = nn.Dropout2d(p=0.2)\n",
    "\n",
    "        self.cbam = CBAM(channels=feature_channels)\n",
    "\n",
    "        self.classifier = nn.Sequential(\n",
    "            nn.AdaptiveAvgPool2d(1),\n",
    "            nn.Flatten(),\n",
    "            nn.Dropout(0.2),\n",
    "            nn.Linear(feature_channels, num_classes)\n",
    "        )\n",
    "\n",
    "    def forward(self, x):\n",
    "        if isinstance(self.features, nn.Sequential ):\n",
    "            x = self.features(x)\n",
    "        else:\n",
    "            x = self.features(x)[-1]\n",
    "\n",
    "        x = self.dropout2d(x)\n",
    "        # x = self.cbam(x)\n",
    "        x = self.classifier(x)\n",
    "        return x\n",
    "    \n",
    "backbone_type = 'convnext_small'\n",
    "num_classes = 8\n",
    "model = CNN_CBAM(backbone_type=backbone_type, num_classes=num_classes) #Convnext_FC (model name without CBAM)"
   ]
  },
  {
   "cell_type": "code",
   "execution_count": 19,
   "metadata": {},
   "outputs": [],
   "source": [
    "combined_view_map = {\n",
    "    0 : 'plax',          # PLAX\n",
    "    1: 'psax-ves',     # PSAX-ves\n",
    "    2: 'psax-sub',     # PSAX-base\n",
    "    3: 'psax-sub',     # PSAX-mid\n",
    "    4: 'psax-sub',     # PSAX-apical\n",
    "    5: 'apical-2ch',   # Apical-2ch\n",
    "    6: 'apical-3ch',   # Apical-3ch\n",
    "    7: 'apical-4&5ch',   # Apical-5ch\n",
    "    8: 'apical-4&5ch',   # Apical-4ch\n",
    "    9: 'suprasternal',   # Suprasternal   \n",
    "    10: 'subcostal'      # Subcostal\n",
    "}\n",
    "\n",
    "view_to_group = {\n",
    "    0: 'other',    # PLAX\n",
    "    1: 'other',    # PSAX-ves\n",
    "    2: 'psax',     # PSAX-sub\n",
    "    3: 'apical',   # Apical-2ch\n",
    "    4: 'apical',   # Apical-3ch\n",
    "    5: 'apical',   # Apical-4&5ch\n",
    "    6: 'other',   # Suprasternal\n",
    "    7: 'other',    # Subcostal\n",
    "}\n",
    "\n",
    "group_to_labels = {\n",
    "    'apical': [3,4,5],\n",
    "    'psax': [2],\n",
    "    'other': [0,1,6,7],\n",
    "}\n",
    "\n",
    "# ----------- Router Model -------------- #\n",
    "class Router(nn.Module):\n",
    "    def __init__(self, feature_dim, num_groups = 3):\n",
    "        super().__init__()\n",
    "        self.classifier = nn.Linear(feature_dim, num_groups)\n",
    "        self.group_names2 = ['apical', 'psax', 'other']\n",
    "\n",
    "    def forward(self, features):\n",
    "        return self.classifier(features) #[B, 4]\n",
    "\n",
    "\n",
    "# ------------ Multi-Head Classifier ------------ #\n",
    "class MultiHeadClassifier(nn.Module):\n",
    "    def __init__(self, feature_dim, group_to_labels):\n",
    "        super().__init__()\n",
    "        self.group_to_labels = group_to_labels\n",
    "        self.heads = nn.ModuleDict()\n",
    "        for group, labels in group_to_labels.items():\n",
    "            self.heads[group] = nn.Linear(feature_dim, len(labels))\n",
    "        self.group_names = list(group_to_labels.keys())\n",
    "\n",
    "    def forward(self, features, group_probs):\n",
    "        logits = torch.zeros(features.size(0), max(max(v) for v in group_to_labels.values()) + 1).to(features.device)\n",
    "        for i, group in enumerate(self.group_names):\n",
    "            head = self.heads[group]\n",
    "            group_logits = head(features)\n",
    "            mapped_labels = self.group_to_labels[group]\n",
    "            probs = group_probs[:, i].unsqueeze(1)  # (B, 1)\n",
    "            for j, view_id in enumerate(mapped_labels):\n",
    "                logits[:, view_id] += probs.squeeze() * group_logits[:, j]\n",
    "        return logits\n",
    "\n",
    "\n",
    "# ------------ Full Model ------------ #\n",
    "class MultiViewClassifier(nn.Module):\n",
    "    def __init__(self, backbone_type='convnext_small'):\n",
    "        super().__init__()\n",
    "        base = getattr(torchvision.models, backbone_type)(weights='IMAGENET1K_V1')\n",
    "        self.features = nn.Sequential(base.features, nn.AdaptiveAvgPool2d((1, 1)))\n",
    "        self.flatten = nn.Flatten()\n",
    "        self.router = Router(768)\n",
    "        self.multihead = MultiHeadClassifier(feature_dim=768, group_to_labels=group_to_labels)\n",
    "        self.view_id_to_group_idx2 = {\n",
    "            view_id: self.router.group_names2.index(view_to_group[view_id])\n",
    "            for view_id in range(8)\n",
    "        }\n",
    "        self.group_names = ['plax', 'psax-ves', 'psax-sub', 'apical-2ch', 'apical-3ch', 'apical-4&5ch', 'suprasternal', 'subcostal']\n",
    "        self.view_id_to_group_idx = {\n",
    "            view_id: self.group_names.index(combined_view_map[view_id])\n",
    "            for view_id in range(11)\n",
    "        }\n",
    "\n",
    "\n",
    "    def forward(self, x, labels=None):\n",
    "        x = self.features(x)  # (B, 768, 1, 1)\n",
    "        x = self.flatten(x)   # (B, 768)\n",
    "        group_logits = self.router(x)\n",
    "        group_probs = torch.softmax(group_logits, dim=1)\n",
    "        view_logits = self.multihead(x, group_probs)\n",
    "        return view_logits, group_logits\n",
    "    \n",
    "backbone_type = 'convnext_small'\n",
    "model = MultiViewClassifier(backbone_type=backbone_type)"
   ]
  },
  {
   "cell_type": "code",
   "execution_count": 156,
   "metadata": {},
   "outputs": [
    {
     "name": "stdout",
     "output_type": "stream",
     "text": [
      "(tensor([[ 0.0230, -0.0016,  0.0117, -0.0074, -0.0847, -0.0282,  0.0074, -0.0078],\n",
      "        [ 0.0185,  0.0094, -0.0241,  0.0012, -0.1013, -0.0276,  0.0132, -0.0260],\n",
      "        [ 0.0281,  0.0144, -0.0042,  0.0086, -0.0926, -0.0369,  0.0140, -0.0174],\n",
      "        [ 0.0313,  0.0117, -0.0053,  0.0011, -0.0667,  0.0098,  0.0150, -0.0242],\n",
      "        [ 0.0325,  0.0070,  0.0276, -0.0188, -0.0440, -0.0100,  0.0023, -0.0094],\n",
      "        [ 0.0256,  0.0102, -0.0171,  0.0092, -0.1059, -0.0140,  0.0095, -0.0175],\n",
      "        [ 0.0146,  0.0084,  0.0075, -0.0078, -0.0397, -0.0387, -0.0094,  0.0192],\n",
      "        [ 0.0434,  0.0275, -0.0179, -0.0100, -0.0797,  0.0073,  0.0136, -0.0229]],\n",
      "       grad_fn=<CopySlices>), tensor([[ 0.2572,  0.2761, -0.2091],\n",
      "        [ 0.3914,  0.2057, -0.2365],\n",
      "        [ 0.3478,  0.2237, -0.2307],\n",
      "        [ 0.3061,  0.1827, -0.2008],\n",
      "        [ 0.2385,  0.1665, -0.1268],\n",
      "        [ 0.3384,  0.2846, -0.2544],\n",
      "        [ 0.1090,  0.1814, -0.1012],\n",
      "        [ 0.3509,  0.1858, -0.2034]], grad_fn=<AddmmBackward0>))\n"
     ]
    }
   ],
   "source": [
    "input1 = torch.rand(8, 3, 256, 256)\n",
    "# input2 = torch.rand(8, 10, 3, 299, 299)\n",
    "# model.eval()\n",
    "print(model(input1))"
   ]
  },
  {
   "cell_type": "markdown",
   "metadata": {},
   "source": [
    "### Freeze initial layers of the model"
   ]
  },
  {
   "cell_type": "code",
   "execution_count": 154,
   "metadata": {},
   "outputs": [],
   "source": [
    "def freeze_backbone(model):\n",
    "    for param in model.features.parameters():\n",
    "        param.requires_grad = False"
   ]
  },
  {
   "cell_type": "code",
   "execution_count": 23,
   "metadata": {},
   "outputs": [],
   "source": [
    "def unfreeze_backbone(model):\n",
    "    for param in model.features.parameters():\n",
    "        param.requires_grad = True"
   ]
  },
  {
   "cell_type": "markdown",
   "metadata": {
    "id": "wlnj51gEuSVA"
   },
   "source": [
    "### Define loss and optimizer"
   ]
  },
  {
   "cell_type": "code",
   "execution_count": null,
   "metadata": {},
   "outputs": [],
   "source": [
    "class PenalizedCrossEntropyLoss(nn.Module):\n",
    "    def __init__(self, num_classes, penalty_map=None, base_loss_weight=1.0):\n",
    "        super().__init__()\n",
    "        self.base_loss_weight = base_loss_weight\n",
    "        self.penalty_map = penalty_map or {}\n",
    "        self.ce = nn.CrossEntropyLoss(reduction='none')  # compute per-sample loss\n",
    "\n",
    "    def forward(self, logits, targets):\n",
    "        preds = torch.argmax(logits, dim=1)\n",
    "        base_losses = self.ce(logits, targets)\n",
    "\n",
    "        # Apply penalties for specific (true_label, pred_label) combinations\n",
    "        penalties = torch.ones_like(base_losses) * self.base_loss_weight\n",
    "\n",
    "        for i in range(len(targets)):\n",
    "            true_label = targets[i].item()\n",
    "            pred_label = preds[i].item()\n",
    "            if (true_label, pred_label) in self.penalty_map:\n",
    "                penalties[i] *= self.penalty_map[(true_label, pred_label)]\n",
    "\n",
    "        penalized_loss = base_losses * penalties\n",
    "        return penalized_loss.mean()\n",
    "\n",
    "penalty_map = {\n",
    "    (5, 3): 3.0,   # true: 5 (Apical-2ch), predicted as 8 (Apical-4ch) → very bad\n",
    "    (5, 4): 2.0,   # true: 5, predicted as 7 → bad\n",
    "    (3, 4): \n",
    "    (3, 5): 4.0,\n",
    "    (4, 5): 3.0\n",
    "}"
   ]
  },
  {
   "cell_type": "code",
   "execution_count": 28,
   "metadata": {
    "colab": {
     "base_uri": "https://localhost:8080/"
    },
    "id": "ExOWtCbPuQFj",
    "outputId": "9b4ac996-270d-416f-ad57-8294e6a382ea"
   },
   "outputs": [
    {
     "name": "stdout",
     "output_type": "stream",
     "text": [
      "cuda\n"
     ]
    }
   ],
   "source": [
    "device = 'cuda' if torch.cuda.is_available() else 'cpu'\n",
    "# device = torch.device('cuda:0')\n",
    "model.to(device)\n",
    "if torch.cuda.device_count() > 1:\n",
    "  print(\"Let's use\", torch.cuda.device_count(), \"GPUs!\")\n",
    "  model = nn.DataParallel(model)\n",
    "\n",
    "\n",
    "# model.lstm.flatten_parameters() \n",
    "criterion_nomral = torch.nn.CrossEntropyLoss(label_smoothing=0.1)\n",
    "criterion = PenalizedCrossEntropyLoss(num_classes=8, penalty_map=penalty_map)\n",
    "# optimizer = torch.optim.SGD(model.parameters(), lr=0.0001, momentum=0.9)\n",
    "optimizer = torch.optim.Adam(model.parameters(), lr=1e-4)\n",
    "# , weight_decay=1e-5) ## changed from 0.001 to 0.0001 \n",
    "scheduler = ReduceLROnPlateau(optimizer, mode='min', factor=0.5, patience=3)\n",
    "\n",
    "def update_optimizer(model, new_lr):\n",
    "    return torch.optim.Adam(filter(lambda p: p.requires_grad, model.parameters()), lr=new_lr, weight_decay=1e-5)\n",
    "\n",
    "print(device)"
   ]
  },
  {
   "cell_type": "markdown",
   "metadata": {
    "id": "0HteOa94uZhZ"
   },
   "source": [
    "### Train the model"
   ]
  },
  {
   "cell_type": "code",
   "execution_count": 29,
   "metadata": {
    "id": "s2VwektM9oa4"
   },
   "outputs": [],
   "source": [
    "def evaluate(model, loader, device, epoch, mode='validation'):\n",
    "  model.eval()\n",
    "  running_loss = 0.\n",
    "  running_corrects_view = 0\n",
    "  running_corrects_group = 0\n",
    "  # BATCH_SIZE = 64\n",
    "  total = 0\n",
    "  for i, (images, labels) in enumerate(loader):\n",
    "    images = images.to(device)\n",
    "    labels = labels.to(device)\n",
    "    labels = labels.squeeze(1)\n",
    "    with torch.no_grad():\n",
    "      view_logits, group_logits = model(images)\n",
    "      new_labels = torch.tensor([model.view_id_to_group_idx[v.item()] for v in labels], device=device)\n",
    "      group_targets = torch.tensor([model.view_id_to_group_idx2[v.item()] for v in new_labels], device=device)\n",
    "      group_loss = criterion_nomral(group_logits, group_targets)\n",
    "      view_loss = criterion(view_logits, new_labels)\n",
    "      loss = view_loss\n",
    "      total += images.size(0)\n",
    "      _, predictions_view = view_logits.max(1)\n",
    "    _, predictions_group = group_logits.max(1)\n",
    "    running_loss += loss.item() * images.size(0)\n",
    "    running_corrects_view += (predictions_view == new_labels).sum()\n",
    "    running_corrects_group += (predictions_group == group_targets).sum()\n",
    "\n",
    "  epoch_loss = running_loss / total\n",
    "  epoch_acc_group = running_corrects_group / total\n",
    "  epoch_acc_view = running_corrects_view / total\n",
    "  print(f'{mode} epoch {epoch}:  Loss({epoch_loss:6.4f}, Accuracy Group ({epoch_acc_group:6.5f}), Accuracy View ({epoch_acc_view:6.5f}) )')\n",
    "  return epoch_acc_group, epoch_acc_view, loss\n"
   ]
  },
  {
   "cell_type": "code",
   "execution_count": 30,
   "metadata": {
    "colab": {
     "base_uri": "https://localhost:8080/",
     "height": 411
    },
    "id": "OGRUWRhJuXoU",
    "outputId": "c6b87a67-8a5f-47fa-8236-e9caecd7b846"
   },
   "outputs": [
    {
     "name": "stdout",
     "output_type": "stream",
     "text": [
      "Train epoch 0: Loss(1.9405, Accuracy Group (0.48501), Accuracy View (0.45434) )\n",
      "valid epoch 0:  Loss(1.3719, Accuracy Group (0.59716), Accuracy View (0.55166) )\n",
      "---\n",
      "Train epoch 1: Loss(0.9335, Accuracy Group (0.74398), Accuracy View (0.72285) )\n",
      "valid epoch 1:  Loss(0.8454, Accuracy Group (0.74028), Accuracy View (0.73365) )\n",
      "---\n",
      "Train epoch 2: Loss(0.6374, Accuracy Group (0.83553), Accuracy View (0.80282) )\n",
      "valid epoch 2:  Loss(0.7163, Accuracy Group (0.87393), Accuracy View (0.80284) )\n",
      "---\n",
      "Train epoch 3: Loss(0.5508, Accuracy Group (0.90709), Accuracy View (0.86483) )\n",
      "valid epoch 3:  Loss(0.7008, Accuracy Group (0.91848), Accuracy View (0.83128) )\n",
      "---\n",
      "Train epoch 4: Loss(0.4371, Accuracy Group (0.95888), Accuracy View (0.88846) )\n",
      "valid epoch 4:  Loss(0.5076, Accuracy Group (0.95261), Accuracy View (0.87867) )\n",
      "---\n",
      "Train epoch 5: Loss(0.3154, Accuracy Group (0.96979), Accuracy View (0.92026) )\n",
      "valid epoch 5:  Loss(0.5322, Accuracy Group (0.95735), Accuracy View (0.88057) )\n",
      "---\n",
      "Train epoch 6: Loss(0.3147, Accuracy Group (0.97569), Accuracy View (0.92435) )\n",
      "valid epoch 6:  Loss(0.5723, Accuracy Group (0.94313), Accuracy View (0.86256) )\n",
      "---\n",
      "no further improvement  tensor(0.8787, device='cuda:0')\n"
     ]
    }
   ],
   "source": [
    "epochs = 10\n",
    "backbone_freeze_epoch = 5\n",
    "best_acc = 0\n",
    "val_loss = 0.0\n",
    "best_val_loss = float('inf')\n",
    "best_model = None\n",
    "\n",
    "# freeze_backbone(model)\n",
    "# print(\"Backbone frozen.\")\n",
    "\n",
    "for epoch in range(epochs):\n",
    "  model.train()\n",
    "  total = 0\n",
    "  running_loss = 0.\n",
    "  running_corrects_view = 0\n",
    "  running_corrects_group = 0\n",
    "\n",
    "  # if epoch == backbone_freeze_epoch:\n",
    "  #   unfreeze_backbone(model)\n",
    "  #   update_optimizer(model, new_lr=1e-5)\n",
    "  #   print(\"Backbone unfrozen, optimizer updated.\")\n",
    "\n",
    "  for i, (images, labels) in enumerate(train_loader):\n",
    "    images = images.to(device)\n",
    "    labels = labels.to(device)\n",
    "    optimizer.zero_grad()\n",
    "    view_logits, group_logits = model(images)\n",
    "    labels = labels.squeeze(1)\n",
    "    new_labels = torch.tensor([model.view_id_to_group_idx[v.item()] for v in labels], device=device)\n",
    "    group_targets = torch.tensor([model.view_id_to_group_idx2[v.item()] for v in new_labels], device=device)\n",
    "    group_loss = criterion_nomral(group_logits, group_targets)\n",
    "    view_loss = criterion(view_logits, new_labels)\n",
    "    loss = view_loss\n",
    "    loss.backward()\n",
    "    optimizer.step()\n",
    "\n",
    "    total += images.size(0)\n",
    "    _, predictions_view = view_logits.max(1)\n",
    "    _, predictions_group = group_logits.max(1)\n",
    "    running_loss += loss.item() * images.size(0)\n",
    "    running_corrects_view += (predictions_view == new_labels).sum()\n",
    "    running_corrects_group += (predictions_group == group_targets).sum()\n",
    "\n",
    "  epoch_loss = running_loss / total\n",
    "  epoch_acc_group = running_corrects_group / total\n",
    "  epoch_acc_view = running_corrects_view / total\n",
    "\n",
    "  print(f'Train epoch {epoch}: Loss({epoch_loss:6.4f}, Accuracy Group ({epoch_acc_group:6.5f}), Accuracy View ({epoch_acc_view:6.5f}) )')\n",
    "  val_acc_group, val_acc_view, val_loss = evaluate(model, val_loader, device, epoch, mode='valid')\n",
    "\n",
    "  print('---')\n",
    "\n",
    "  if(val_loss < best_val_loss):\n",
    "    best_acc = val_acc_view\n",
    "    best_val_loss = val_loss\n",
    "    epochs_no_improve = 0\n",
    "    best_model = copy.deepcopy(model)\n",
    "#     torch.save(model.state_dict(), (f'/home/student/shokoofa/Downloads/res_model{epoch}.pth'))\n",
    "  else:\n",
    "    epochs_no_improve += 1\n",
    "\n",
    "  if epochs_no_improve >= 2 and epoch >= 4 :\n",
    "    print('no further improvement ', best_acc)\n",
    "    break\n"
   ]
  },
  {
   "cell_type": "code",
   "execution_count": 41,
   "metadata": {},
   "outputs": [],
   "source": [
    "# int('sd') + 3"
   ]
  },
  {
   "cell_type": "code",
   "execution_count": null,
   "metadata": {},
   "outputs": [],
   "source": [
    "torch.save({\n",
    "    'model_name': 'f{model.__class__.__name__}',\n",
    "    'num_classes': f'{num_classes}',\n",
    "    'discription': f'usig original csv files (1 frame per video), with a weighted loss model to penalize misclassifying 2 and 3, and 4&5 chambers , and a pretrained convnext model ({model.__class__.__name__}) combining views first with psax, plax and other group then with {num_classes} classes, trained with {backbone_type} backbone, two-stage classification model, including {[i.__class__.__name__ for i in train_transform]} in augmentation, images shape is {img.shape}',\n",
    "    'accuracyOnVal' : round(val_acc_view.item(),3),\n",
    "    'date': str(datetime.datetime.now()).split('.')[0],\n",
    "    'state_dict': model.state_dict(),\n",
    "    'model' : model,\n",
    "}, os.path.join(files_address, 'notebooks/saved_models', f'model_{model.__class__.__name__}-bb_({backbone_type})-nclasses_{num_classes}-acc_{round(val_acc_view.item(),3)}-penalized-loss.pth'))"
   ]
  },
  {
   "cell_type": "code",
   "execution_count": 34,
   "metadata": {},
   "outputs": [],
   "source": [
    "model = best_model if best_model != None else model"
   ]
  },
  {
   "cell_type": "markdown",
   "metadata": {},
   "source": [
    "#### Load a Pretrained Model"
   ]
  },
  {
   "cell_type": "code",
   "execution_count": null,
   "metadata": {},
   "outputs": [
    {
     "data": {
      "text/plain": [
       "\"usig customized encoder model training from scratch, trained with custom_efficientNet backbone, two-stage classification model, including ['RandomHorizontalFlip', 'RandomVerticalFlip', 'RandomApply', 'RandomApply', 'RandomApply', 'RandomApply', 'RandomApply', 'RandomApply', 'RandomApply', 'RandomApply', 'RandomApply'] in augmentation, images shape is torch.Size([3, 224, 224])\""
      ]
     },
     "execution_count": 7,
     "metadata": {},
     "output_type": "execute_result"
    }
   ],
   "source": [
    "loaded_info = torch.load(os.path.join(files_address, 'notebooks/saved_models', 'model_EncoderViewClassifier-bb_(custom_efficientNet)-acc_0.633.pth'))\n",
    "model = loaded_info['model']\n",
    "description = loaded_info['discription']\n",
    "description\n",
    "\n",
    "# state_dict = torch.load('/home/shokoo/EchoView/video_class/singleframe/test3.pth', map_location='cpu')\n",
    "# new_state_dict = {k.replace('module.', ''): v for k, v in state_dict.items()}\n",
    "# model.load_state_dict(new_state_dict)\n",
    "# model.to(device)\n",
    "# val_acc, val_loss = evaluate(model, val_loader, device, mode='valid')"
   ]
  },
  {
   "cell_type": "code",
   "execution_count": 35,
   "metadata": {},
   "outputs": [
    {
     "name": "stdout",
     "output_type": "stream",
     "text": [
      "Test  Accuracy (0.8962))\n"
     ]
    }
   ],
   "source": [
    "def evaluate_test(model, loader, device, mode='Test'):\n",
    "  model.eval()\n",
    "  total_correct = 0\n",
    "  total_loss = 0\n",
    "  indices = []\n",
    "  predicted_labels = []\n",
    "  true_labels = []\n",
    "  confidences = []\n",
    "  # BATCH_SIZE = 64\n",
    "  total = 0\n",
    "  for i, (images, labels) in enumerate(loader):\n",
    "    images = images.to(device)\n",
    "    labels = labels.to(device)\n",
    "    labels = labels.squeeze(1)\n",
    "    with torch.no_grad():\n",
    "      outputs, _ = model(images)\n",
    "      # loss = criterion(outputs, labels)\n",
    "      # total_loss += loss.item() * images.size(0)\n",
    "      batch_start = i * loader.batch_size\n",
    "      batch_indices = list(range(batch_start, batch_start + images.size(0)))\n",
    "      total += images.size(0) \n",
    "      _, predictions = outputs.max(1)\n",
    "      new_labels = torch.tensor([model.view_id_to_group_idx[v.item()] for v in labels], device=device)\n",
    "      total_correct += (new_labels == predictions).sum()\n",
    "      confidence = torch.softmax(outputs, dim=1)\n",
    "      confidences.extend(confidence.cpu().numpy())\n",
    "      indices.extend(batch_indices)\n",
    "      predicted_labels.extend(predictions.cpu().numpy())\n",
    "      true_labels.extend(new_labels.cpu().numpy())\n",
    "\n",
    "  # print(total_correct, total, accuracy)\n",
    "  # loss = total_loss / total\n",
    "  accuracy = total_correct / total\n",
    "  # print(f'{mode} Loss({loss:6.4f}),  Accuracy ({accuracy:6.4f}))')\n",
    "  print(f'{mode}  Accuracy ({accuracy:6.4f}))')\n",
    "  test_dict = {'indices': indices, 'predicted': predicted_labels, 'true_labels': true_labels, 'confidence': confidences }\n",
    "  return accuracy, pd.DataFrame(test_dict)\n",
    "\n",
    "_, test_dict = evaluate_test(model, loader= test_loader, device = device)"
   ]
  },
  {
   "cell_type": "code",
   "execution_count": 36,
   "metadata": {},
   "outputs": [
    {
     "name": "stdout",
     "output_type": "stream",
     "text": [
      "1287\n",
      "1436 149\n"
     ]
    },
    {
     "data": {
      "text/plain": [
       "0.8962395543175488"
      ]
     },
     "execution_count": 36,
     "metadata": {},
     "output_type": "execute_result"
    }
   ],
   "source": [
    "true_labels, pred_labels = test_dict['true_labels'], test_dict['predicted']  \n",
    "\n",
    "test = pd.concat([test_dict, info_test], axis = 1)\n",
    "\n",
    "def get_mode(series):\n",
    "    return series.mode()[0] if not series.mode().empty else None\n",
    "\n",
    "def get_mean(series):\n",
    "    return series.mean()\n",
    "\n",
    "res = test.groupby(['path', 'true_labels', 'label']).agg({ 'confidence': get_mean, 'predicted': get_mode} ).reset_index() \n",
    "res['predicted2'] = res['confidence'].apply(lambda x : x.argmax())\n",
    "res\n",
    "\n",
    "def calculate_accuracy(true_labels, predicted_labels):\n",
    "    correct = sum(1 for true, pred in zip(true_labels, predicted_labels) if true == pred)\n",
    "    print(correct)\n",
    "    total = len(true_labels)\n",
    "    print(total, total - correct)\n",
    "    accuracy = correct / total\n",
    "    return accuracy\n",
    "\n",
    "true_labels, pred_labels = res['true_labels'], res['predicted']\n",
    "calculate_accuracy(true_labels, pred_labels)"
   ]
  },
  {
   "cell_type": "code",
   "execution_count": 37,
   "metadata": {},
   "outputs": [
    {
     "data": {
      "text/html": [
       "<div>\n",
       "<style scoped>\n",
       "    .dataframe tbody tr th:only-of-type {\n",
       "        vertical-align: middle;\n",
       "    }\n",
       "\n",
       "    .dataframe tbody tr th {\n",
       "        vertical-align: top;\n",
       "    }\n",
       "\n",
       "    .dataframe thead th {\n",
       "        text-align: right;\n",
       "    }\n",
       "</style>\n",
       "<table border=\"1\" class=\"dataframe\">\n",
       "  <thead>\n",
       "    <tr style=\"text-align: right;\">\n",
       "      <th></th>\n",
       "      <th>path</th>\n",
       "      <th>true_labels</th>\n",
       "      <th>label</th>\n",
       "      <th>confidence</th>\n",
       "      <th>predicted</th>\n",
       "      <th>predicted2</th>\n",
       "    </tr>\n",
       "  </thead>\n",
       "  <tbody>\n",
       "    <tr>\n",
       "      <th>3</th>\n",
       "      <td>test/-8UKHE9bQ0u09nleXrwgBg/14</td>\n",
       "      <td>0</td>\n",
       "      <td>PLAX</td>\n",
       "      <td>[0.17371327, 0.012412825, 0.04789079, 0.158927...</td>\n",
       "      <td>4</td>\n",
       "      <td>4</td>\n",
       "    </tr>\n",
       "    <tr>\n",
       "      <th>32</th>\n",
       "      <td>test/-8UKHE9bQ0u09nleXrwgBg/54</td>\n",
       "      <td>4</td>\n",
       "      <td>Apical-3ch</td>\n",
       "      <td>[0.0013528774, 0.001202763, 0.0013053834, 0.93...</td>\n",
       "      <td>3</td>\n",
       "      <td>3</td>\n",
       "    </tr>\n",
       "    <tr>\n",
       "      <th>33</th>\n",
       "      <td>test/-8UKHE9bQ0u09nleXrwgBg/55</td>\n",
       "      <td>4</td>\n",
       "      <td>Apical-3ch</td>\n",
       "      <td>[0.977879, 0.0009555252, 0.004504154, 0.004854...</td>\n",
       "      <td>0</td>\n",
       "      <td>0</td>\n",
       "    </tr>\n",
       "    <tr>\n",
       "      <th>36</th>\n",
       "      <td>test/-8UKHE9bQ0u09nleXrwgBg/60</td>\n",
       "      <td>4</td>\n",
       "      <td>Apical-3ch</td>\n",
       "      <td>[0.7852614, 0.004036632, 0.028809499, 0.046263...</td>\n",
       "      <td>0</td>\n",
       "      <td>0</td>\n",
       "    </tr>\n",
       "    <tr>\n",
       "      <th>47</th>\n",
       "      <td>test/-HQr6nOJRs6eFWVbflK-Mw/14</td>\n",
       "      <td>0</td>\n",
       "      <td>PLAX</td>\n",
       "      <td>[0.007716836, 0.0059182807, 0.009098202, 0.074...</td>\n",
       "      <td>5</td>\n",
       "      <td>5</td>\n",
       "    </tr>\n",
       "    <tr>\n",
       "      <th>...</th>\n",
       "      <td>...</td>\n",
       "      <td>...</td>\n",
       "      <td>...</td>\n",
       "      <td>...</td>\n",
       "      <td>...</td>\n",
       "      <td>...</td>\n",
       "    </tr>\n",
       "    <tr>\n",
       "      <th>1326</th>\n",
       "      <td>test/sGh0GBWUS5eOFQ0FDr0OhQ/80</td>\n",
       "      <td>7</td>\n",
       "      <td>Subcostal</td>\n",
       "      <td>[0.99991, 2.7278671e-05, 1.02186e-05, 9.431645...</td>\n",
       "      <td>0</td>\n",
       "      <td>0</td>\n",
       "    </tr>\n",
       "    <tr>\n",
       "      <th>1348</th>\n",
       "      <td>test/sGsEiOtOT7KpgvkpsLWgtg/25</td>\n",
       "      <td>1</td>\n",
       "      <td>PSAX-ves</td>\n",
       "      <td>[0.029878909, 0.14969805, 0.7322897, 0.0073093...</td>\n",
       "      <td>2</td>\n",
       "      <td>2</td>\n",
       "    </tr>\n",
       "    <tr>\n",
       "      <th>1394</th>\n",
       "      <td>test/sGsEiOtOT7KpgvkpsLWgtg/84</td>\n",
       "      <td>6</td>\n",
       "      <td>Suprasternal</td>\n",
       "      <td>[0.07118083, 0.032704227, 0.06969602, 0.063732...</td>\n",
       "      <td>7</td>\n",
       "      <td>7</td>\n",
       "    </tr>\n",
       "    <tr>\n",
       "      <th>1431</th>\n",
       "      <td>test/zuM6a0WfQqWap1nEjaGmdQ/55</td>\n",
       "      <td>7</td>\n",
       "      <td>Subcostal</td>\n",
       "      <td>[0.00066665007, 0.0012733539, 0.0007095089, 0....</td>\n",
       "      <td>6</td>\n",
       "      <td>6</td>\n",
       "    </tr>\n",
       "    <tr>\n",
       "      <th>1432</th>\n",
       "      <td>test/zuM6a0WfQqWap1nEjaGmdQ/56</td>\n",
       "      <td>7</td>\n",
       "      <td>Subcostal</td>\n",
       "      <td>[0.00019120557, 0.00056866824, 9.6593976e-05, ...</td>\n",
       "      <td>6</td>\n",
       "      <td>6</td>\n",
       "    </tr>\n",
       "  </tbody>\n",
       "</table>\n",
       "<p>149 rows × 6 columns</p>\n",
       "</div>"
      ],
      "text/plain": [
       "                                path  true_labels         label  \\\n",
       "3     test/-8UKHE9bQ0u09nleXrwgBg/14            0          PLAX   \n",
       "32    test/-8UKHE9bQ0u09nleXrwgBg/54            4    Apical-3ch   \n",
       "33    test/-8UKHE9bQ0u09nleXrwgBg/55            4    Apical-3ch   \n",
       "36    test/-8UKHE9bQ0u09nleXrwgBg/60            4    Apical-3ch   \n",
       "47    test/-HQr6nOJRs6eFWVbflK-Mw/14            0          PLAX   \n",
       "...                              ...          ...           ...   \n",
       "1326  test/sGh0GBWUS5eOFQ0FDr0OhQ/80            7     Subcostal   \n",
       "1348  test/sGsEiOtOT7KpgvkpsLWgtg/25            1      PSAX-ves   \n",
       "1394  test/sGsEiOtOT7KpgvkpsLWgtg/84            6  Suprasternal   \n",
       "1431  test/zuM6a0WfQqWap1nEjaGmdQ/55            7     Subcostal   \n",
       "1432  test/zuM6a0WfQqWap1nEjaGmdQ/56            7     Subcostal   \n",
       "\n",
       "                                             confidence  predicted  predicted2  \n",
       "3     [0.17371327, 0.012412825, 0.04789079, 0.158927...          4           4  \n",
       "32    [0.0013528774, 0.001202763, 0.0013053834, 0.93...          3           3  \n",
       "33    [0.977879, 0.0009555252, 0.004504154, 0.004854...          0           0  \n",
       "36    [0.7852614, 0.004036632, 0.028809499, 0.046263...          0           0  \n",
       "47    [0.007716836, 0.0059182807, 0.009098202, 0.074...          5           5  \n",
       "...                                                 ...        ...         ...  \n",
       "1326  [0.99991, 2.7278671e-05, 1.02186e-05, 9.431645...          0           0  \n",
       "1348  [0.029878909, 0.14969805, 0.7322897, 0.0073093...          2           2  \n",
       "1394  [0.07118083, 0.032704227, 0.06969602, 0.063732...          7           7  \n",
       "1431  [0.00066665007, 0.0012733539, 0.0007095089, 0....          6           6  \n",
       "1432  [0.00019120557, 0.00056866824, 9.6593976e-05, ...          6           6  \n",
       "\n",
       "[149 rows x 6 columns]"
      ]
     },
     "execution_count": 37,
     "metadata": {},
     "output_type": "execute_result"
    }
   ],
   "source": [
    "res[res['predicted']!=res['true_labels']]"
   ]
  },
  {
   "cell_type": "code",
   "execution_count": 38,
   "metadata": {},
   "outputs": [
    {
     "data": {
      "image/png": "[encoded data removed]",
      "text/plain": [
       "<Figure size 1000x700 with 2 Axes>"
      ]
     },
     "metadata": {},
     "output_type": "display_data"
    },
    {
     "data": {
      "image/png": "[encoded data removed]",
      "text/plain": [
       "<Figure size 1000x700 with 2 Axes>"
      ]
     },
     "metadata": {},
     "output_type": "display_data"
    }
   ],
   "source": [
    "valid_labels = {'PLAX': 0, 'PSAX-ves' : 1, 'PSAX-base' : 2, 'PSAX-mid' : 3,\n",
    "                              'PSAX-apical' : 4, 'Apical-2ch' : 5, 'Apical-3ch' : 6,\n",
    "                              'Apical-5ch' : 7, 'Apical-4ch' : 8, 'Suprasternal' : 9, 'Subcostal' : 10\n",
    "               }\n",
    "\n",
    "labels_name = ['plax', 'psax-ves', 'psax-sub', 'apical-2ch', 'apical-3ch', 'apical-4&5ch', 'suprasternal', 'subcostal']\n",
    "\n",
    "# labels_name = valid_labels.keys()\n",
    "        \n",
    "cm = confusion_matrix(true_labels, pred_labels)\n",
    "cm_normalized = cm.astype('float') / cm.sum(axis=1)[:, np.newaxis]\n",
    "\n",
    "plt.figure(figsize=(10,7))\n",
    "sns.heatmap(cm, annot=True, fmt='d', cmap='Blues', xticklabels=labels_name, yticklabels=labels_name )\n",
    "plt.xlabel('Predicted Labels')\n",
    "plt.ylabel('True Labels')\n",
    "plt.title('Confusion Matrix')\n",
    "plt.show()\n",
    "\n",
    "plt.figure(figsize=(10,7))\n",
    "sns.heatmap(cm_normalized, annot=True, cmap='Blues', xticklabels=labels_name, yticklabels=labels_name )\n",
    "plt.xlabel('Predicted Labels')\n",
    "plt.ylabel('True Labels')\n",
    "plt.title('Confusion Matrix')\n",
    "plt.show()"
   ]
  },
  {
   "cell_type": "code",
   "execution_count": null,
   "metadata": {},
   "outputs": [],
   "source": []
  }
 ],
 "metadata": {
  "colab": {
   "provenance": []
  },
  "kernelspec": {
   "display_name": "Python 3",
   "language": "python",
   "name": "python3"
  },
  "language_info": {
   "codemirror_mode": {
    "name": "ipython",
    "version": 3
   },
   "file_extension": ".py",
   "mimetype": "text/x-python",
   "name": "python",
   "nbconvert_exporter": "python",
   "pygments_lexer": "ipython3",
   "version": "3.11.12"
  }
 },
 "nbformat": 4,
 "nbformat_minor": 1
}
