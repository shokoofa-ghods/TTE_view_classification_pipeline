{
 "cells": [
  {
   "cell_type": "code",
   "execution_count": 1,
   "id": "b506768d",
   "metadata": {},
   "outputs": [],
   "source": [
    "import pydicom\n",
    "import os\n",
    "import numpy as np\n",
    "import cv2\n",
    "import pydicom\n",
    "from glob import glob\n",
    "from tqdm import tqdm\n",
    "from PIL import Image\n",
    "import pandas as pd\n",
    "import os\n",
    "import shutil\n",
    "from pathlib import Path\n",
    "from tqdm import tqdm\n",
    "import matplotlib.pyplot as plt\n",
    "import seaborn as sns\n",
    "from iterstrat.ml_stratifiers import MultilabelStratifiedKFold\n",
    "from sklearn.model_selection import train_test_split\n",
    "from sklearn.preprocessing import MultiLabelBinarizer"
   ]
  },
  {
   "cell_type": "markdown",
   "id": "a9730ec0",
   "metadata": {},
   "source": [
    "### From directory make csv files with labels"
   ]
  },
  {
   "cell_type": "code",
   "execution_count": 2,
   "id": "2e90f214",
   "metadata": {},
   "outputs": [],
   "source": [
    "def process_label_df(df):\n",
    "    df['path'] = df.apply(lambda row: '/'.join([row['home_folder_name'], str(row['folder_name']), str(row['file_name']).split('.')[0]]), axis=1)\n",
    "    return df"
   ]
  },
  {
   "cell_type": "code",
   "execution_count": 3,
   "id": "66318392",
   "metadata": {},
   "outputs": [],
   "source": [
    "def create_label_df(amy, non_amy):\n",
    "    non_amy['home_folder_name'] = 'Tahseen'\n",
    "    processed_amy = process_label_df(amy)\n",
    "    processed_non_amy = process_label_df(non_amy)\n",
    "    label_df = pd.concat([processed_amy, processed_non_amy], axis=0).reset_index()\n",
    "    return label_df"
   ]
  },
  {
   "cell_type": "code",
   "execution_count": 4,
   "id": "e185055f",
   "metadata": {},
   "outputs": [],
   "source": [
    "def find_existing_file_paths(original_address):\n",
    "    paths = glob(os.path.join(original_address,'*/**', '*'))\n",
    "    return [path.split(f'{original_address}')[-1] for path in paths]"
   ]
  },
  {
   "cell_type": "code",
   "execution_count": 5,
   "id": "4a1e2947",
   "metadata": {},
   "outputs": [],
   "source": [
    "def find_all_paths(addresses):\n",
    "    all_path = []\n",
    "    for address in addresses:\n",
    "        all_path.extend(find_existing_file_paths(address))\n",
    "    return all_path"
   ]
  },
  {
   "cell_type": "code",
   "execution_count": 6,
   "id": "1fb07f08",
   "metadata": {},
   "outputs": [],
   "source": [
    "def filter_basedOn_labels(all_paths, label_df):\n",
    "    new_all_paths = []\n",
    "    filtered = list(label_df[~label_df['label'].isna()]['path'])\n",
    "    for path in all_paths:\n",
    "        if path in filtered:\n",
    "            new_all_paths.append(path)\n",
    "    return new_all_paths"
   ]
  },
  {
   "cell_type": "code",
   "execution_count": 7,
   "id": "27bc821a",
   "metadata": {},
   "outputs": [],
   "source": [
    "def create_csv(paths, parent_dir, label_df, amy_folders):\n",
    "    data_dict = {'path':[], 'frame':[], 'label':[], 'disease':[], 'sample_spacing':[], 'start':[], 'end':[]}\n",
    "    disease = 0\n",
    "    label = None\n",
    "    original_path = ''\n",
    "    \n",
    "    for path in paths:\n",
    "        if path.split('/')[0] not in amy_folders:\n",
    "            original_path = parent_dir[0]\n",
    "        else:\n",
    "            original_path = parent_dir[1]\n",
    "        imgs = glob(os.path.join(original_path, path, '*'))\n",
    "\n",
    "        for v in imgs:\n",
    "            if v.endswith('.npy'):\n",
    "                imgs.remove(v)\n",
    "        # imgs.remove( img for img in imgs if img.endswith('frames.npy'))\n",
    "        \n",
    "        sorted_imgs = sorted([img.split('_')[-1].split('.png')[0] for img in imgs])\n",
    "        if len(imgs)<10:\n",
    "            continue\n",
    "        \n",
    "        start, end = int(sorted_imgs[0]), int(sorted_imgs[-1])\n",
    "        selected_frames, retstep = np.linspace(start, end, num= 10, retstep=True)\n",
    "\n",
    "        if path.split('/')[-3] in amy_folders:\n",
    "            disease = 1\n",
    "        \n",
    "        label = label_df[label_df['path'] == path]['label'].values[0]\n",
    "\n",
    "        for frame in selected_frames:\n",
    "            data_dict['path'].append(path)\n",
    "            data_dict['frame'].append(int(frame))\n",
    "            data_dict['label'].append(label)\n",
    "            data_dict['disease'].append(disease)\n",
    "            data_dict['sample_spacing'].append(retstep)\n",
    "            data_dict['start'].append(start)\n",
    "            data_dict['end'].append(end)\n",
    "\n",
    "    return pd.DataFrame(data_dict)"
   ]
  },
  {
   "cell_type": "code",
   "execution_count": 8,
   "id": "0be18cf6",
   "metadata": {},
   "outputs": [],
   "source": [
    "def filter_views(df, items):\n",
    "    def filter_item(x):\n",
    "        x = x.rstrip()\n",
    "        parts = x.split('-')\n",
    "        # Remove any suffix part that matches known suffixes\n",
    "        filtered = [p for p in parts if p.lower() not in items]\n",
    "        return '-'.join(filtered)\n",
    "    df['label'] = df['label'].apply(filter_item)\n",
    "    df = df[df['label'] != 'Other']\n",
    "    df = df[df['label'] != 'CW']\n",
    "\n",
    "    return df"
   ]
  },
  {
   "cell_type": "code",
   "execution_count": 9,
   "id": "b9c799ee",
   "metadata": {},
   "outputs": [
    {
     "name": "stdout",
     "output_type": "stream",
     "text": [
      "5963 studies are unlabeled.\n"
     ]
    }
   ],
   "source": [
    "amy_folders = ['TTE', 'US_guided_biopsy', 'cardiac_stress_study']\n",
    "\n",
    "addresses = pd.read_csv('data_address.csv')\n",
    "amy_labels = pd.read_csv('Amyloid_echo_view_labels - Sheet1.csv')\n",
    "non_amy_labels = pd.read_csv('NEW_Tahseen_echo_view_labels - Sheet1.csv')\n",
    "\n",
    "parent_dir = list(addresses['path'])\n",
    "\n",
    "label_df = create_label_df(amy_labels, non_amy_labels)\n",
    "all_paths = find_all_paths(addresses=parent_dir[:2])\n",
    "filtered_all_paths = filter_basedOn_labels(all_paths, label_df)\n",
    "print(len(all_paths) - len(filtered_all_paths), 'studies are unlabeled.')\n",
    "\n",
    "df = create_csv(filtered_all_paths, parent_dir, label_df, amy_folders)\n",
    "\n",
    "df = filter_views(df, [ 'd', '2d', 'outflow', 'inflow', 'strain', 'contrast' ])\n",
    "\n",
    "df['patient_id'] = df['path'].apply(lambda x:x.split('/')[-2])"
   ]
  },
  {
   "cell_type": "markdown",
   "id": "11c4addf",
   "metadata": {},
   "source": [
    "### from csv file split stratifed data patient-wise on view labels "
   ]
  },
  {
   "cell_type": "code",
   "execution_count": 11,
   "id": "8ccc5d21",
   "metadata": {},
   "outputs": [],
   "source": [
    "def create_split(patient_df, stratify_features, df):\n",
    "    # Initialize splitter\n",
    "    mskf = MultilabelStratifiedKFold(n_splits=5, shuffle=True, random_state=42)\n",
    "\n",
    "    # Split into train+val vs test (say 80-20 first)\n",
    "    train_val_idx, test_idx = next(mskf.split(patient_df['patient_id'], stratify_features))\n",
    "\n",
    "    # Apply another split to train_val for train vs val (say 75-25)\n",
    "    train_idx, val_idx = next(\n",
    "        mskf.split(\n",
    "            patient_df.iloc[train_val_idx]['patient_id'],\n",
    "            stratify_features[train_val_idx]\n",
    "        )\n",
    "    )\n",
    "    # Get patient IDs\n",
    "    train_patients = patient_df.iloc[train_val_idx].iloc[train_idx]['patient_id'].tolist()\n",
    "    val_patients = patient_df.iloc[train_val_idx].iloc[val_idx]['patient_id'].tolist()\n",
    "    test_patients = patient_df.iloc[test_idx]['patient_id'].tolist()\n",
    "\n",
    "    train_df = df[df['patient_id'].isin(train_patients)]\n",
    "    val_df = df[df['patient_id'].isin(val_patients)]\n",
    "    test_df = df[df['patient_id'].isin(test_patients)]\n",
    "\n",
    "    \n",
    "    return train_df, val_df, test_df"
   ]
  },
  {
   "cell_type": "code",
   "execution_count": 12,
   "id": "b835d8c3",
   "metadata": {},
   "outputs": [],
   "source": [
    "def encoding(patient_df):\n",
    "    # One-hot encode the multi-label views\n",
    "    mlb = MultiLabelBinarizer()\n",
    "    view_matrix = mlb.fit_transform(patient_df['label'])\n",
    "\n",
    "    # Combine views and health status into stratification features\n",
    "    stratify_features = np.hstack([view_matrix, patient_df[['disease']].values])\n",
    "    return stratify_features"
   ]
  },
  {
   "cell_type": "code",
   "execution_count": 13,
   "id": "43e1dd75",
   "metadata": {},
   "outputs": [],
   "source": [
    "def group_patient(df): # Group view labels per patient\n",
    "    patient_df = df.groupby('patient_id').agg({\n",
    "        'label': lambda x: list(set(x)),  # Unique views per patient\n",
    "        'disease': 'first'  # Assumes consistent health status per patient\n",
    "    }).reset_index()\n",
    "    return patient_df"
   ]
  },
  {
   "cell_type": "code",
   "execution_count": 14,
   "id": "f91a788c",
   "metadata": {},
   "outputs": [],
   "source": [
    "patient_df = group_patient(df)\n",
    "stratify_features = encoding(patient_df)\n",
    "train_df, val_df, test_df = create_split(patient_df, stratify_features, df)"
   ]
  },
  {
   "cell_type": "markdown",
   "id": "b3d30add",
   "metadata": {},
   "source": [
    "### Organizing directory for train/val/test splits"
   ]
  },
  {
   "cell_type": "code",
   "execution_count": 22,
   "id": "115cbb23",
   "metadata": {},
   "outputs": [],
   "source": [
    "def copy_files_by_split(train_df, val_df, test_df,\n",
    "                        amy_folders,\n",
    "                        source_root,\n",
    "                        filepath_col = 'path',\n",
    "                        output_root='split_data'):\n",
    "    # Mapping from df to split name\n",
    "    split_map = {\n",
    "        'train': train_df,\n",
    "        'val': val_df,\n",
    "        'test': test_df\n",
    "    }\n",
    "\n",
    "    for split, df in split_map.items():\n",
    "        print(f\"\\n Copying {len(df)} files to '{split}' folder...\")\n",
    "        for _, row in tqdm(df.iterrows(), total=len(df), desc=f'Copying {split}'):\n",
    "            rel_path = row[filepath_col]  # relative path to the file\n",
    "            if rel_path.split('/')[0] in amy_folders:\n",
    "                src_path = os.path.join(source_root[1], rel_path)\n",
    "            else:\n",
    "                src_path = os.path.join(source_root[0], rel_path)\n",
    "                rel_path = '/'.join(rel_path.split('/')[1:]) \n",
    "            dest_path = os.path.join(source_root[-1], output_root, split, rel_path)\n",
    "\n",
    "            if not os.path.exists(src_path):\n",
    "                print(f\"⚠️ Source folder not found: {src_path}\")\n",
    "                continue\n",
    "\n",
    "            # Create destination folder if it doesn't exist\n",
    "            os.makedirs(dest_path, exist_ok=True)\n",
    "\n",
    "            # Copy all files from src_folder to dest_folder\n",
    "            for filename in os.listdir(src_path):\n",
    "                src_file = os.path.join(src_path, filename)\n",
    "                dest_file = os.path.join(dest_path, filename)\n",
    "\n",
    "                if os.path.isfile(src_file):\n",
    "                    try:\n",
    "                        shutil.copy2(src_file, dest_file)\n",
    "                    except Exception as e:\n",
    "                        print(f\" Error copying {src_file}: {e}\")\n",
    "\n",
    "        print(f\" Done copying for '{split}'.\")"
   ]
  },
  {
   "cell_type": "code",
   "execution_count": null,
   "id": "34ba913e",
   "metadata": {},
   "outputs": [
    {
     "name": "stdout",
     "output_type": "stream",
     "text": [
      "\n",
      " Copying 44930 files to 'train' folder...\n"
     ]
    },
    {
     "name": "stderr",
     "output_type": "stream",
     "text": [
      "Copying train:  55%|█████▍    | 24646/44930 [05:45<09:11, 36.75it/s] "
     ]
    }
   ],
   "source": [
    "copy_files_by_split(\n",
    "    train_df=train_df,\n",
    "    val_df=val_df,\n",
    "    test_df=test_df,\n",
    "    amy_folders=amy_folders,\n",
    "    source_root=parent_dir,     # Folder where all files currently live\n",
    "    filepath_col='path',         # Change if your column is named differently\n",
    "    output_root='data_split'         # Folder where you want to organize into train/val/test\n",
    ")"
   ]
  }
 ],
 "metadata": {
  "kernelspec": {
   "display_name": "Python 3",
   "language": "python",
   "name": "python3"
  },
  "language_info": {
   "codemirror_mode": {
    "name": "ipython",
    "version": 3
   },
   "file_extension": ".py",
   "mimetype": "text/x-python",
   "name": "python",
   "nbconvert_exporter": "python",
   "pygments_lexer": "ipython3",
   "version": "3.11.12"
  }
 },
 "nbformat": 4,
 "nbformat_minor": 5
}
