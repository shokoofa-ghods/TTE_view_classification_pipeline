{
 "cells": [
  {
   "cell_type": "code",
   "execution_count": 1,
   "id": "2d49429f",
   "metadata": {},
   "outputs": [],
   "source": [
    "import pydicom\n",
    "import os\n",
    "import numpy as np\n",
    "import cv2\n",
    "import pydicom\n",
    "from glob import glob\n",
    "from tqdm import tqdm\n",
    "from PIL import Image\n",
    "import pandas as pd\n",
    "import os\n",
    "import shutil\n",
    "from pathlib import Path\n",
    "from tqdm import tqdm\n",
    "import matplotlib.pyplot as plt"
   ]
  },
  {
   "cell_type": "code",
   "execution_count": 16,
   "id": "f95b1b75",
   "metadata": {},
   "outputs": [],
   "source": [
    "train = pd.read_csv('train.csv')\n",
    "test = pd.read_csv('test.csv')\n",
    "val = pd.read_csv('val.csv')"
   ]
  },
  {
   "cell_type": "markdown",
   "id": "81a79592",
   "metadata": {},
   "source": [
    "### Get the original data split (train/val/test) in csv without frame sampling "
   ]
  },
  {
   "cell_type": "code",
   "execution_count": 18,
   "id": "fe4c10c3",
   "metadata": {},
   "outputs": [],
   "source": [
    "def group_patient(df): # Group view labels per patient\n",
    "    shrinked_df = df.groupby('path').agg({\n",
    "        'label': 'first',  # Unique views per patient\n",
    "        'disease': 'first',  # Assumes consistent health status per patient,\n",
    "        'sample_spacing': 'first',\n",
    "        'start': 'first',\n",
    "        'end': 'first',\n",
    "        'parent_dir': 'first'\n",
    "    }).reset_index()\n",
    "    return shrinked_df"
   ]
  },
  {
   "cell_type": "code",
   "execution_count": 20,
   "id": "48bfa3b7",
   "metadata": {},
   "outputs": [],
   "source": [
    "def make_csv(df , df_name = 'df', dest_dir=''):\n",
    "    df.to_csv(os.path.join(dest_dir,f'{df_name}.csv'), index=False)\n",
    "    print(f\"saved {df_name} csv.\")"
   ]
  },
  {
   "cell_type": "code",
   "execution_count": 21,
   "id": "f423de46",
   "metadata": {},
   "outputs": [
    {
     "name": "stdout",
     "output_type": "stream",
     "text": [
      "saved train_original csv.\n",
      "saved val_original csv.\n",
      "saved test_original csv.\n"
     ]
    }
   ],
   "source": [
    "train = group_patient(train)\n",
    "val = group_patient(val)\n",
    "test = group_patient(test)\n",
    "\n",
    "make_csv(train, 'train_original')\n",
    "make_csv(val, 'val_original')\n",
    "make_csv(test, 'test_original')"
   ]
  }
 ],
 "metadata": {
  "kernelspec": {
   "display_name": "Python 3",
   "language": "python",
   "name": "python3"
  },
  "language_info": {
   "codemirror_mode": {
    "name": "ipython",
    "version": 3
   },
   "file_extension": ".py",
   "mimetype": "text/x-python",
   "name": "python",
   "nbconvert_exporter": "python",
   "pygments_lexer": "ipython3",
   "version": "3.11.12"
  }
 },
 "nbformat": 4,
 "nbformat_minor": 5
}
