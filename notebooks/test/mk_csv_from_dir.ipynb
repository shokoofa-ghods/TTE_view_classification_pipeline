{
 "cells": [
  {
   "cell_type": "code",
   "execution_count": 2,
   "id": "13fd52a2",
   "metadata": {},
   "outputs": [],
   "source": [
    "import pandas as pd\n",
    "import glob\n",
    "import os"
   ]
  },
  {
   "cell_type": "code",
   "execution_count": 3,
   "id": "058f5c15",
   "metadata": {},
   "outputs": [],
   "source": [
    "original_address = '/home/shokoo/EchoView/amylod_classification/Dataset/'"
   ]
  },
  {
   "cell_type": "code",
   "execution_count": 3,
   "id": "8ed03ee7",
   "metadata": {},
   "outputs": [],
   "source": [
    "paths = glob.glob(os.path.join('/home/shokoo/EchoView/amylod_classification/Dataset/*/*/**', '*'))"
   ]
  },
  {
   "cell_type": "code",
   "execution_count": 7,
   "id": "55b56d2a",
   "metadata": {},
   "outputs": [],
   "source": [
    "paths = [path.split(f'{original_address}')[-1] for path in paths]"
   ]
  },
  {
   "cell_type": "code",
   "execution_count": 41,
   "id": "ccb5b9e9",
   "metadata": {},
   "outputs": [],
   "source": [
    "amy_dict = {'path': [], 'label':[], 'start':[], 'end':[]}\n",
    "nonamy_dict = {'path': [], 'label':[], 'start':[], 'end':[]}"
   ]
  },
  {
   "cell_type": "code",
   "execution_count": 42,
   "id": "c98403ac",
   "metadata": {},
   "outputs": [],
   "source": [
    "amy_folders = ['TTE', 'US guided biopsy', 'cardiac_stress_study']\n",
    "amy_list = []\n",
    "nonamy_list = []\n",
    "\n",
    "for path in paths:\n",
    "    if path.split('/')[0] in amy_folders:\n",
    "        amy_list.append(path)\n",
    "    else:\n",
    "        nonamy_list.append(path)"
   ]
  },
  {
   "cell_type": "code",
   "execution_count": 43,
   "id": "6e1ff0f9",
   "metadata": {},
   "outputs": [],
   "source": [
    "for path in amy_list:\n",
    "    frame_nums = sorted([int(i.split('_')[-1].split('.')[0]) for i in glob.glob(os.path.join(original_address, path, '*'))])\n",
    "    if frame_nums[-1] - frame_nums[0] < 5:\n",
    "        continue\n",
    "    amy_dict['path'].append(path)\n",
    "    \n",
    "    amy_dict['label'].append(None)\n",
    "    amy_dict['start'].append(frame_nums[0])\n",
    "    amy_dict['end'].append(frame_nums[-1])\n"
   ]
  },
  {
   "cell_type": "code",
   "execution_count": 44,
   "id": "8a73a0e1",
   "metadata": {},
   "outputs": [
    {
     "data": {
      "text/plain": [
       "15201"
      ]
     },
     "execution_count": 44,
     "metadata": {},
     "output_type": "execute_result"
    }
   ],
   "source": [
    "len(amy_dict['path'])"
   ]
  },
  {
   "cell_type": "code",
   "execution_count": 45,
   "id": "4e68bf0f",
   "metadata": {},
   "outputs": [],
   "source": [
    "pd.DataFrame(amy_dict).to_csv('amyloid_data_path.csv', index=False)\n",
    "# pd.DataFrame(nonamy_dict).to_csv('non_amyloid_data_path.csv', index=False)"
   ]
  },
  {
   "cell_type": "code",
   "execution_count": null,
   "id": "23cb8946",
   "metadata": {},
   "outputs": [],
   "source": []
  },
  {
   "cell_type": "markdown",
   "id": "6920788f",
   "metadata": {},
   "source": [
    "### Remove other folders "
   ]
  },
  {
   "cell_type": "code",
   "execution_count": 13,
   "id": "89c0174c",
   "metadata": {},
   "outputs": [],
   "source": [
    "amy = pd.read_csv('amyloid_data_path.csv')"
   ]
  },
  {
   "cell_type": "code",
   "execution_count": 17,
   "id": "989171df",
   "metadata": {},
   "outputs": [],
   "source": [
    "amy = amy[amy.apply( lambda row : int(row['path'].split('/')[-1]) == 0, axis=1)]"
   ]
  },
  {
   "cell_type": "code",
   "execution_count": 20,
   "id": "ed595042",
   "metadata": {},
   "outputs": [],
   "source": [
    "amy.to_csv('amyloid_data_path(first_cycle).csv', index=False)"
   ]
  }
 ],
 "metadata": {
  "kernelspec": {
   "display_name": "Python 3",
   "language": "python",
   "name": "python3"
  },
  "language_info": {
   "codemirror_mode": {
    "name": "ipython",
    "version": 3
   },
   "file_extension": ".py",
   "mimetype": "text/x-python",
   "name": "python",
   "nbconvert_exporter": "python",
   "pygments_lexer": "ipython3",
   "version": "3.11.12"
  }
 },
 "nbformat": 4,
 "nbformat_minor": 5
}
