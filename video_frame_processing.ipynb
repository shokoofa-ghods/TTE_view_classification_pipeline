{
 "cells": [
  {
   "cell_type": "code",
   "execution_count": 45,
   "id": "fdaf2f0b",
   "metadata": {},
   "outputs": [],
   "source": [
    "import pydicom\n",
    "import os\n",
    "import numpy as np\n",
    "import cv2\n",
    "import pydicom\n",
    "from glob import glob\n",
    "from tqdm import tqdm\n",
    "from PIL import Image"
   ]
  },
  {
   "cell_type": "code",
   "execution_count": 57,
   "id": "f700a2f3",
   "metadata": {},
   "outputs": [],
   "source": [
    "def extract_frames_from_dicom(dcm_path):\n",
    "    ds = pydicom.dcmread(dcm_path)\n",
    "    frames = ds.pixel_array  # shape: (num_frames, H, W, 3) or (num_frames, H, W)\n",
    "    if frames.ndim == 3:  # If grayscale, convert to RGB\n",
    "        frames = [cv2.cvtColor(frame, cv2.COLOR_GRAY2RGB) for frame in frames]\n",
    "    return frames.astype(np.uint8) "
   ]
  },
  {
   "cell_type": "code",
   "execution_count": 36,
   "id": "7ba9edad",
   "metadata": {},
   "outputs": [],
   "source": [
    "def resize_frame(frame, target_size=(256, 256)):\n",
    "    return cv2.resize(frame, target_size, interpolation=cv2.INTER_AREA)"
   ]
  },
  {
   "cell_type": "code",
   "execution_count": 58,
   "id": "feb89afa",
   "metadata": {},
   "outputs": [],
   "source": [
    "def save_frames_as_images_and_npy(frames, output_dir, base_name=\"frame\"):\n",
    "    os.makedirs(output_dir, exist_ok=True)\n",
    "    saved_frames = []\n",
    "    for i, frame in enumerate(frames):\n",
    "        frame_path = os.path.join(output_dir, f\"{base_name}_{i}.png\")\n",
    "        img = Image.fromarray(frame, mode=\"RGB\")\n",
    "        img.save(frame_path, format='PNG')\n",
    "        # frame_bgr = cv2.cvtColor(frame, cv2.COLOR_RGB2BGR)\n",
    "        # cv2.imwrite(frame_path, frame)\n",
    "        saved_frames.append(frame)\n",
    "    np.save(os.path.join(output_dir, \"frames.npy\"), np.stack(saved_frames))"
   ]
  },
  {
   "cell_type": "code",
   "execution_count": 38,
   "id": "d7cf5714",
   "metadata": {},
   "outputs": [],
   "source": [
    "def get_all_dicom_paths(input_root):\n",
    "    return glob(os.path.join(input_root, \"**/*\"))"
   ]
  },
  {
   "cell_type": "code",
   "execution_count": 39,
   "id": "98e80671",
   "metadata": {},
   "outputs": [],
   "source": [
    "def get_patient_and_case_id(dcm_path):    \n",
    "    patient_id, case_id = dcm_path.split('/')[-2:]\n",
    "    return patient_id, case_id"
   ]
  },
  {
   "cell_type": "code",
   "execution_count": 40,
   "id": "411a89da",
   "metadata": {},
   "outputs": [],
   "source": [
    "def preprocess_all_videos(input_root, output_root, target_size=(256, 256)):\n",
    "    dcm_paths = get_all_dicom_paths(input_root)\n",
    "    total_sum = 0.0\n",
    "    total_squared = 0.0\n",
    "    total_pixels = 0\n",
    "\n",
    "    for dcm_path in tqdm(dcm_paths, desc=\"Processing videos\"):\n",
    "        patient_id, case_id = get_patient_and_case_id(dcm_path)\n",
    "        output_dir = os.path.join(output_root, f\"{patient_id}\", f\"{case_id}\")\n",
    "        os.makedirs(output_dir, exist_ok=True)\n",
    "\n",
    "        frames = extract_frames_from_dicom(dcm_path)\n",
    "\n",
    "        resized_frames = []\n",
    "        for frame in frames:\n",
    "            resized = resize_frame(frame, target_size)\n",
    "            norm_frame = resized.astype(np.float32) / 255.0\n",
    "            total_sum += norm_frame.sum(axis=(0, 1))\n",
    "            total_squared += (norm_frame ** 2).sum(axis=(0, 1))\n",
    "            total_pixels += norm_frame.shape[0] * norm_frame.shape[1]\n",
    "            resized_frames.append(resized)\n",
    "\n",
    "        save_frames_as_images_and_npy(resized_frames, output_dir, case_id)\n",
    "\n",
    "\n",
    "    mean = total_sum / total_pixels\n",
    "    std = np.sqrt((total_squared / total_pixels) - mean ** 2)\n",
    "\n",
    "    print(\"\\nGlobal Dataset Mean (per channel):\", mean)\n",
    "    print(\"Global Dataset Std (per channel):\", std)\n",
    "    return mean, std\n"
   ]
  },
  {
   "cell_type": "code",
   "execution_count": 75,
   "id": "600b56d6",
   "metadata": {},
   "outputs": [
    {
     "name": "stderr",
     "output_type": "stream",
     "text": [
      "Processing videos: 100%|██████████| 5503/5503 [2:29:47<00:00,  1.63s/it]  "
     ]
    },
    {
     "name": "stdout",
     "output_type": "stream",
     "text": [
      "\n",
      "Global Dataset Mean (per channel): [0.0889713  0.08220335 0.08252189]\n",
      "Global Dataset Std (per channel): [0.17636586 0.16898772 0.17102995]\n"
     ]
    },
    {
     "name": "stderr",
     "output_type": "stream",
     "text": [
      "\n"
     ]
    }
   ],
   "source": [
    "input_path = '/home/shokoo/EchoView/video_class/Tahseen'\n",
    "output_path = '/home/shokoo/EchoView/video_class/TTE_processed'\n",
    "\n",
    "final_mean, final_std = preprocess_all_videos(input_path, output_path)"
   ]
  },
  {
   "cell_type": "code",
   "execution_count": 53,
   "id": "00062c7f",
   "metadata": {},
   "outputs": [],
   "source": [
    "i1 = pydicom.dcmread('/home/shokoo/EchoView/video_class/Tahseen/2qGH0IjqRbK6ppqa98C5tQ/29')\n",
    "i2 = pydicom.dcmread('/home/shokoo/EchoView/video_class/Tahseen/2qGH0IjqRbK6ppqa98C5tQ/2')"
   ]
  },
  {
   "cell_type": "code",
   "execution_count": null,
   "id": "b14fd423",
   "metadata": {},
   "outputs": [
    {
     "data": {
      "text/plain": [
       "False"
      ]
     },
     "execution_count": 74,
     "metadata": {},
     "output_type": "execute_result"
    }
   ],
   "source": [
    "imgg = np.load('/home/shokoo/EchoView/video_class/TTE_processed/2qGH0IjqRbK6ppqa98C5tQ/48/frames.npy')\n",
    "imgg = imgg[0]\n",
    "np.all(imgg[:,:,0]== imgg[:,:,1])"
   ]
  },
  {
   "cell_type": "code",
   "execution_count": null,
   "id": "57e5c284",
   "metadata": {},
   "outputs": [],
   "source": [
    "paths = get_all_dicom_paths(input_path)\n",
    "\n",
    "for i in paths[:5]:\n",
    "    frames, ds = extract_frames_from_dicom(i)\n",
    "\n",
    "    patient_id, case_id = get_patient_and_case_id(i)\n",
    "    output_dir = os.path.join(output_path, f\"Patient_{patient_id}\", f\"case_{case_id}\")\n",
    "    os.makedirs(output_dir, exist_ok=True)\n",
    "    \n",
    "    resized_vi = []\n",
    "    for frame in frames:\n",
    "        resized = resize_frame(frame)\n",
    "        norm_frame = resized.astype(np.float32) / 255.0\n",
    "        total_sum += norm_frame.sum(axis=(0, 1))\n",
    "        total_squared += (norm_frame ** 2).sum(axis=(0, 1))\n",
    "        total_pixels += norm_frame.shape[0] * norm_frame.shape[1]\n",
    "        resized.append(resized_vi)\n",
    "        \n",
    "        "
   ]
  },
  {
   "cell_type": "code",
   "execution_count": null,
   "id": "56eb0503",
   "metadata": {},
   "outputs": [],
   "source": [
    "if 'PixelSpacing' in ds:\n"
   ]
  }
 ],
 "metadata": {
  "kernelspec": {
   "display_name": "Python 3",
   "language": "python",
   "name": "python3"
  },
  "language_info": {
   "codemirror_mode": {
    "name": "ipython",
    "version": 3
   },
   "file_extension": ".py",
   "mimetype": "text/x-python",
   "name": "python",
   "nbconvert_exporter": "python",
   "pygments_lexer": "ipython3",
   "version": "3.11.12"
  }
 },
 "nbformat": 4,
 "nbformat_minor": 5
}
